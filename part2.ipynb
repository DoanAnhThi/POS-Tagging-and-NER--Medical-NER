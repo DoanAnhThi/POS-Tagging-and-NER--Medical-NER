{
 "cells": [
  {
   "cell_type": "markdown",
   "metadata": {},
   "source": [
    "# Phần II. Part-of-Speech Tagging"
   ]
  },
  {
   "cell_type": "markdown",
   "metadata": {},
   "source": [
    "### Load Dataset"
   ]
  },
  {
   "cell_type": "code",
   "execution_count": null,
   "metadata": {},
   "outputs": [],
   "source": [
    "# install library\n",
    "pip install evaluate\n",
    "# import library\n",
    "from typing import List\n",
    "import numpy as np\n",
    "import torch\n",
    "import evaluate\n",
    "from sklearn.model_selection import train_test_split\n",
    "import nltk\n",
    "nltk.download(’treebank’)\n",
    "# load tree bank dataset\n",
    "tagged_sentences = nltk.corpus.treebank.tagged_sents()\n",
    "print(\"Number of samples:\", len(tagged_sentences))\n",
    "# save sentences and tags\n",
    "sentences, sentence_tags =[], []\n",
    "for tagged_sentence in tagged_sentences:\n",
    " sentence, tags = zip(*tagged_sentence)\n",
    " sentences.append([word.lower() for word in sentence])\n",
    " sentence_tags.append([tag for tag in tags])"
   ]
  },
  {
   "cell_type": "markdown",
   "metadata": {},
   "source": [
    "### Preprocessing"
   ]
  },
  {
   "cell_type": "markdown",
   "metadata": {},
   "source": [
    "- Split dataset into train, validation and test set"
   ]
  },
  {
   "cell_type": "code",
   "execution_count": null,
   "metadata": {},
   "outputs": [],
   "source": [
    "train_sentences, test_sentences, train_tags, test_tags = train_test_split(\n",
    " sentences,\n",
    " sentence_tags,\n",
    "  test_size=0.3\n",
    ")\n",
    " valid_sentences, test_sentences, valid_tags, test_tags = train_test_split(\n",
    " test_sentences,\n",
    " test_tags,\n",
    " test_size=0.5\n",
    ")"
   ]
  },
  {
   "cell_type": "markdown",
   "metadata": {},
   "source": [
    "- Build dataset"
   ]
  },
  {
   "cell_type": "code",
   "execution_count": null,
   "metadata": {},
   "outputs": [],
   "source": [
    "# tokenization\n",
    "from transformers import AutoTokenizer\n",
    "from torch.utils.data import Dataset\n",
    "model_name = \"QCRI/bert-base-multilingual-cased-pos-english\"\n",
    "tokenizer = AutoTokenizer.from_pretrained(\n",
    " model_name,\n",
    " use_fast=True\n",
    ")\n",
    "MAX_LEN = 256\n",
    "class PosTagging_Dataset(Dataset):\n",
    " def __init__(self,\n",
    " sentences: List[List[str]],\n",
    " tags: List[List[str]],\n",
    " tokenizer,\n",
    " label2id,\n",
    " max_len=MAX_LEN\n",
    " ):\n",
    " super().__init__()\n",
    " self.sentences = sentences\n",
    " self.tags = tags\n",
    " self.max_len = max_len\n",
    " self.tokenizer = tokenizer\n",
    " self.label2id = label2id\n",
    " def __len__(self):\n",
    " return len(self.sentences)\n",
    " def __getitem__(self, idx):\n",
    " input_token = self.sentences[idx]\n",
    " label_token = self.tags[idx]\n",
    " input_token = self.tokenizer.convert_tokens_to_ids(input_token)\n",
    " attention_mask = [1] * len(input_token)\n",
    " labels = [self.label2id[token] for token in label_token]\n",
    " return {\n",
    " \"input_ids\": self.pad_and_truncate(input_token, pad_id=self.tokenizer.\n",
    "pad_token_id),\n",
    " \"labels\": self.pad_and_truncate(labels, pad_id=label2id[\"0\"]),\n",
    " \"attention_mask\": self.pad_and_truncate(attention_mask, pad_id=0)\n",
    " }\n",
    " def pad_and_truncate(self, inputs: List[int], pad_id: int):\n",
    " if len(inputs) < self.max_len:\n",
    " padded_inputs = inputs + [pad_id] * (self.max_len - len(inputs))\n",
    " else:\n",
    " padded_inputs = inputs[:self.max_len]\n",
    " return torch.as_tensor(padded_inputs)"
   ]
  },
  {
   "cell_type": "markdown",
   "metadata": {},
   "source": [
    "- Dataset loader"
   ]
  },
  {
   "cell_type": "code",
   "execution_count": null,
   "metadata": {},
   "outputs": [],
   "source": [
    " train_dataset = PosTagging_Dataset(train_sentences, train_tags, tokenizer, label2id)\n",
    " val_dataset = PosTagging_Dataset(valid_sentences, valid_tags, tokenizer, label2id)\n",
    " test_dataset = PosTagging_Dataset(test_sentences, test_tags, tokenizer, label2id)"
   ]
  },
  {
   "cell_type": "markdown",
   "metadata": {},
   "source": [
    "### Modeling"
   ]
  },
  {
   "cell_type": "code",
   "execution_count": null,
   "metadata": {},
   "outputs": [],
   "source": [
    " from transformers import AutoTokenizer, AutoModelForTokenClassification\n",
    " model_name = \"QCRI/bert-base-multilingual-cased-pos-english\"\n",
    " model = AutoModelForTokenClassification.from_pretrained(model_name)"
   ]
  },
  {
   "cell_type": "markdown",
   "metadata": {},
   "source": [
    "### Metric"
   ]
  },
  {
   "cell_type": "code",
   "execution_count": null,
   "metadata": {},
   "outputs": [],
   "source": [
    " accuracy = evaluate.load(\"accuracy\")\n",
    " ignore_label = len(label2id)\n",
    " def compute_metrics(eval_pred):\n",
    " predictions, labels = eval_pred\n",
    " mask = labels != ignore_label\n",
    " predictions = np.argmax(predictions, axis=-1)\n",
    " return accuracy.compute(predictions=predictions[mask], references=labels[mask])"
   ]
  },
  {
   "cell_type": "markdown",
   "metadata": {},
   "source": [
    "### Trainer"
   ]
  },
  {
   "cell_type": "code",
   "execution_count": null,
   "metadata": {},
   "outputs": [],
   "source": [
    " from transformers import TrainingArguments, Trainer\n",
    " training_args = TrainingArguments(\n",
    " output_dir=\"out_dir\",\n",
    " learning_rate=1e-5,\n",
    " per_device_train_batch_size=16,\n",
    " per_device_eval_batch_size=16,\n",
    " num_train_epochs=10,\n",
    " eval_strategy=\"epoch\",\n",
    " save_strategy=\"epoch\",\n",
    " load_best_model_at_end=True\n",
    ")\n",
    " trainer = Trainer(\n",
    " model=model,\n",
    " args=training_args,\n",
    " train_dataset=train_dataset,\n",
    " eval_dataset=val_dataset,\n",
    " tokenizer = tokenizer,\n",
    " compute_metrics=compute_metrics,\n",
    ")\n",
    " trainer.train()"
   ]
  },
  {
   "cell_type": "markdown",
   "metadata": {},
   "source": [
    "### Training"
   ]
  },
  {
   "cell_type": "code",
   "execution_count": null,
   "metadata": {},
   "outputs": [],
   "source": []
  },
  {
   "cell_type": "markdown",
   "metadata": {},
   "source": [
    "### Inference"
   ]
  },
  {
   "cell_type": "markdown",
   "metadata": {},
   "source": [
    "Sau quá trình huấn luyện và mô hình có độ đo đánh giá tốt nhất được sử dụng để gán nhãn cho các\n",
    "câu đầu vào"
   ]
  },
  {
   "cell_type": "code",
   "execution_count": null,
   "metadata": {},
   "outputs": [],
   "source": [
    "# tokenization\n",
    "test_sentence = \"We are exploring the topic of deep learning\"\n",
    "input = torch.as_tensor([tokenizer.convert_tokens_to_ids(test_sentence.split())])\n",
    "input = input.to(\"cuda\")\n",
    "# prediction\n",
    "outputs = model(input)\n",
    "_, preds = torch.max(outputs.logits, -1)\n",
    "preds = preds[0].cpu().numpy()\n",
    "# decode\n",
    "pred_tags = \"\"\n",
    "for pred in preds:\n",
    " pred_tags += id2label[pred] + \" \"\n",
    "pred_tags # => PRP VBP RB DT NN IN JJ NN"
   ]
  },
  {
   "cell_type": "code",
   "execution_count": null,
   "metadata": {},
   "outputs": [],
   "source": []
  }
 ],
 "metadata": {
  "kernelspec": {
   "display_name": "Python 3",
   "language": "python",
   "name": "python3"
  },
  "language_info": {
   "name": "python",
   "version": "3.12.4"
  }
 },
 "nbformat": 4,
 "nbformat_minor": 2
}
